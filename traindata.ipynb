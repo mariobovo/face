{
 "cells": [
  {
   "cell_type": "code",
   "execution_count": 3,
   "metadata": {},
   "outputs": [
    {
     "name": "stdout",
     "output_type": "stream",
     "text": [
      "1\n",
      "1\n",
      "1\n",
      "1\n",
      "1\n",
      "1\n",
      "1\n",
      "1\n",
      "1\n",
      "1\n",
      "1\n",
      "1\n",
      "1\n",
      "1\n",
      "1\n",
      "1\n",
      "1\n",
      "1\n",
      "1\n",
      "1\n",
      "1\n",
      "2\n",
      "2\n",
      "2\n",
      "2\n",
      "2\n",
      "2\n",
      "2\n",
      "2\n",
      "2\n",
      "2\n",
      "2\n",
      "2\n",
      "2\n",
      "2\n",
      "2\n",
      "2\n",
      "2\n",
      "2\n",
      "2\n",
      "2\n",
      "2\n"
     ]
    }
   ],
   "source": [
    "import cv2,os\n",
    "import numpy as np\n",
    "from PIL import Image\n",
    "\n",
    "recognizer = cv2.face.LBPHFaceRecognizer_create()\n",
    "recognizer = cv2.face.LBPHFaceRecognizer_create()\n",
    "path='dataSet'\n",
    "\n",
    "def getImagesAndLabels(path):\n",
    "    #get the path of all the files in the folder\n",
    "    imagePaths=[os.path.join(path,f) for f in os.listdir(path)] \n",
    "    faces=[]\n",
    "    IDs=[]\n",
    "    for imagePath in imagePaths:\n",
    "        faceImg=Image.open(imagePath).convert('L');\n",
    "        faceNp=np.array(faceImg,'uint8')\n",
    "        #split to get ID of the image\n",
    "        ID=int(os.path.split(imagePath)[-1].split('.')[1])\n",
    "        faces.append(faceNp)\n",
    "    #   print (ID)\n",
    "        IDs.append(ID)\n",
    "        cv2.imshow(\"traning\",faceNp)\n",
    "        cv2.waitKey(10)\n",
    "    return IDs, faces\n",
    "\n",
    "Ids,faces=getImagesAndLabels(path)\n",
    "#trainning\n",
    "recognizer.train(faces,np.array(Ids))\n",
    "recognizer.save('recognizer/trainningData.yml')\n",
    "cv2.destroyAllWindows()"
   ]
  },
  {
   "cell_type": "code",
   "execution_count": null,
   "metadata": {},
   "outputs": [],
   "source": []
  }
 ],
 "metadata": {
  "kernelspec": {
   "display_name": "Python 3",
   "language": "python",
   "name": "python3"
  },
  "language_info": {
   "codemirror_mode": {
    "name": "ipython",
    "version": 3
   },
   "file_extension": ".py",
   "mimetype": "text/x-python",
   "name": "python",
   "nbconvert_exporter": "python",
   "pygments_lexer": "ipython3",
   "version": "3.7.4"
  }
 },
 "nbformat": 4,
 "nbformat_minor": 2
}
