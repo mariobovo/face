{
 "cells": [
  {
   "cell_type": "code",
   "execution_count": 1,
   "metadata": {},
   "outputs": [],
   "source": [
    "import cv2\n",
    " \n",
    "# Bước 1: Tấm ảnh và tệp tin xml\n",
    "face_cascade = cv2.CascadeClassifier(\"haarcascade_frontalface_default.xml\")\n",
    "image = cv2.imread(\"test.jpg\")\n",
    " \n",
    "# Bước 2: Tạo một bức ảnh xám\n",
    "grayImage = cv2.cvtColor(image, cv2.COLOR_BGR2GRAY)\n",
    " \n",
    "# Bước 3: Tìm khuôn mặt\n",
    "faces = face_cascade.detectMultiScale(\n",
    "    grayImage,\n",
    "    scaleFactor  = 1.1,\n",
    "    minNeighbors = 5,\n",
    ")\n",
    " \n",
    "# Bước 4: Vẽ các khuôn mặt đã nhận diện được lên tấm ảnh gốc\n",
    "i=0\n",
    "for (x, y, w, h) in faces:\n",
    "    i=i+1\n",
    "    cv2.rectangle(image, (x, y), (x+w, y+h), (0, 0, 255), 2)\n",
    "    font = cv2.FONT_HERSHEY_SIMPLEX\n",
    "    cv2.putText(image,'anhtuan',(x, y-5), font, 0.5, (200,255,155))\n",
    "    cv2.imwrite(\"tuan\"+ str(i) + \".jpg\", grayImage[y:y+h,x:x+w]) # ghi ra file ảnh\n",
    "# Bước 5: Vẽ lên màn hình\n",
    "cv2.imshow(\"Faces found\", image)\n",
    " \n",
    "cv2.waitKey(0)\n",
    "cv2.destroyAllWindows()"
   ]
  },
  {
   "cell_type": "code",
   "execution_count": null,
   "metadata": {},
   "outputs": [],
   "source": []
  }
 ],
 "metadata": {
  "kernelspec": {
   "display_name": "Python 3",
   "language": "python",
   "name": "python3"
  },
  "language_info": {
   "codemirror_mode": {
    "name": "ipython",
    "version": 3
   },
   "file_extension": ".py",
   "mimetype": "text/x-python",
   "name": "python",
   "nbconvert_exporter": "python",
   "pygments_lexer": "ipython3",
   "version": "3.7.4"
  }
 },
 "nbformat": 4,
 "nbformat_minor": 2
}
