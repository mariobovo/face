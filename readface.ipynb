{
 "cells": [
  {
   "cell_type": "code",
   "execution_count": 1,
   "metadata": {},
   "outputs": [],
   "source": [
    "import cv2\n",
    "import numpy as np\n",
    "from PIL import Image\n",
    "import pickle\n",
    "import psycopg2\n",
    "faceDetect=cv2.CascadeClassifier('haarcascade_frontalface_default.xml');\n",
    "cam=cv2.VideoCapture(0);\n",
    "rec=cv2.face.LBPHFaceRecognizer_create();\n",
    "rec.read(\"recognizer\\\\trainningData.yml\")\n",
    "id=0\n",
    "#set text style\n",
    "fontface = cv2.FONT_HERSHEY_SIMPLEX\n",
    "fontscale = 0.5\n",
    "fontcolor = (203,23,252)\n",
    "\n",
    "#get data from sqlite by ID\n",
    "def getProfile(id):\n",
    "    #conn=sqlite3.connect(\"FaceBase.db\")\n",
    "    conn=psycopg2.connect(user = \"modbus\",\n",
    "                                  password = \"Modbus@2051\",\n",
    "                                  host = \"172.21.143.57\",\n",
    "                                  port = \"5432\",\n",
    "                                  database = \"dbmodbus\")\n",
    "    cmd=\"SELECT * FROM nhanvien WHERE ID=\"+str(id)\n",
    "#    cursor=conn.execute(cmd)\n",
    "    profile=None\n",
    "    cur = conn.cursor()\n",
    "    cur.execute(cmd)\n",
    "    rows = cur.fetchall()\n",
    "    for row in rows:\n",
    "        profile=row\n",
    "    conn.close()\n",
    "    return profile\n",
    "\n",
    "while(True):\n",
    "    #camera read\n",
    "    ret,img=cam.read();\n",
    "    gray=cv2.cvtColor(img,cv2.COLOR_BGR2GRAY)\n",
    "    faces=faceDetect.detectMultiScale(gray,1.3,5);\n",
    "    for(x,y,w,h) in faces:\n",
    "        cv2.rectangle(img,(x,y),(x+w,y+h),(255,0,0),2)\n",
    "        id,conf=rec.predict(gray[y:y+h,x:x+w])\n",
    "        profile=getProfile(id)\n",
    "        #set text to window\n",
    "        if(profile!=None):\n",
    "            #cv2.PutText(cv2.fromarray(img),str(id),(x+y+h),font,(0,0,255),2);\n",
    "            cv2.putText(img, \"Name: \" + str(profile[1]), (x,y+h+30), fontface, fontscale, fontcolor ,2)\n",
    "    #        cv2.putText(img, \"Age: \" + str(profile[2]), (x,y+h+60), fontface, fontscale, fontcolor ,2)\n",
    "     #       cv2.putText(img, \"Gender: \" + str(profile[3]), (x,y+h+90), fontface, fontscale, fontcolor ,2)\n",
    "        \n",
    "        cv2.imshow('Face',img) \n",
    "    if cv2.waitKey(1)==27:\n",
    "        break;\n",
    "cam.release()\n",
    "cv2.destroyAllWindows()"
   ]
  },
  {
   "cell_type": "code",
   "execution_count": null,
   "metadata": {},
   "outputs": [],
   "source": []
  },
  {
   "cell_type": "code",
   "execution_count": 2,
   "metadata": {},
   "outputs": [
    {
     "ename": "NameError",
     "evalue": "name 'q' is not defined",
     "output_type": "error",
     "traceback": [
      "\u001b[1;31m---------------------------------------------------------------------------\u001b[0m",
      "\u001b[1;31mNameError\u001b[0m                                 Traceback (most recent call last)",
      "\u001b[1;32m<ipython-input-2-e222fcdf3350>\u001b[0m in \u001b[0;36m<module>\u001b[1;34m\u001b[0m\n\u001b[1;32m----> 1\u001b[1;33m \u001b[0mq\u001b[0m\u001b[1;33m\u001b[0m\u001b[1;33m\u001b[0m\u001b[0m\n\u001b[0m",
      "\u001b[1;31mNameError\u001b[0m: name 'q' is not defined"
     ]
    }
   ],
   "source": [
    "q\n"
   ]
  }
 ],
 "metadata": {
  "kernelspec": {
   "display_name": "Python 3",
   "language": "python",
   "name": "python3"
  },
  "language_info": {
   "codemirror_mode": {
    "name": "ipython",
    "version": 3
   },
   "file_extension": ".py",
   "mimetype": "text/x-python",
   "name": "python",
   "nbconvert_exporter": "python",
   "pygments_lexer": "ipython3",
   "version": "3.7.4"
  }
 },
 "nbformat": 4,
 "nbformat_minor": 2
}
